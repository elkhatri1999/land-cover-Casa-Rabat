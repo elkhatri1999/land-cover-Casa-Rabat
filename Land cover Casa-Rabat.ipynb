{
 "cells": [
  {
   "cell_type": "code",
   "execution_count": 1,
   "metadata": {},
   "outputs": [],
   "source": [
    "import ee\n",
    "import geemap\n",
    "ee.Initialize()"
   ]
  },
  {
   "cell_type": "code",
   "execution_count": 2,
   "metadata": {},
   "outputs": [],
   "source": [
    "Map = geemap.Map()"
   ]
  },
  {
   "cell_type": "code",
   "execution_count": 3,
   "metadata": {},
   "outputs": [],
   "source": [
    "#AOI Casa-Rabat\n",
    "\n",
    "AOI=ee.Geometry.Rectangle([-7.8,34.5,-6.1,33.3])\n",
    "\n",
    "image = ee.ImageCollection(\"COPERNICUS/S2\") \\\n",
    "    .filterBounds(AOI) \\\n",
    "    .filterDate('2020-01-01', '2020-10-31') \\\n",
    "    .filter(ee.Filter.lt('CLOUDY_PIXEL_PERCENTAGE', 20)) \n",
    "    \n",
    "img = ee.Image(image.median()).clip(AOI)\n",
    "\n",
    "\n",
    "vis_params = {\n",
    "    'min': 0,\n",
    "    'max': 3000,\n",
    "    'bands': ['B4', 'B3', 'B2']\n",
    "}\n",
    "\n",
    "Map.centerObject(AOI,8)\n",
    "Map.addLayer(img, vis_params, \"sentinel2\")"
   ]
  },
  {
   "cell_type": "code",
   "execution_count": 4,
   "metadata": {},
   "outputs": [],
   "source": [
    "training = img.sample(**{\n",
    "    'region': AOI,\n",
    "    'scale': 200,\n",
    "    'numPixels': 5000,\n",
    "    'seed': 0,\n",
    "    'geometries': True  \n",
    "})\n",
    "\n",
    "Map.addLayer(training, {}, 'training', False)"
   ]
  },
  {
   "cell_type": "code",
   "execution_count": 5,
   "metadata": {},
   "outputs": [],
   "source": [
    "# Instantiate the clusterer and train it.\n",
    "n_clusters = 6\n",
    "clusterer = ee.Clusterer.wekaKMeans(n_clusters).train(training)\n",
    "\n",
    "# Cluster the input using the trained clusterer.\n",
    "result = img.cluster(clusterer)\n",
    "\n",
    "# # Display the clusters with random colors.\n",
    "Map.addLayer(result.randomVisualizer(), {}, 'clusters')"
   ]
  },
  {
   "cell_type": "code",
   "execution_count": 6,
   "metadata": {},
   "outputs": [
    {
     "data": {
      "application/vnd.jupyter.widget-view+json": {
       "model_id": "137a10e0921948e3b74d466c19e24226",
       "version_major": 2,
       "version_minor": 0
      },
      "text/plain": [
       "Map(center=[33.90151095239523, -6.950000000000058], controls=(WidgetControl(options=['position'], widget=HBox(…"
      ]
     },
     "metadata": {},
     "output_type": "display_data"
    }
   ],
   "source": [
    "Map"
   ]
  },
  {
   "cell_type": "code",
   "execution_count": 7,
   "metadata": {
    "scrolled": false
   },
   "outputs": [],
   "source": [
    "legend_keys = ['intensive agriculture/vegetation','buildings/ dense habitats','water','crop production/forest',  'houses/extensive agriculture/clair forest' ,'reforestation/bare soil']\n",
    "legend_colors = ['#BEBADA','#000000','#0000FF','#00FF00','#FB8072','#FF0000']\n",
    "\n",
    "#Reclassify the map\n",
    "\n",
    "result = result.remap([0, 1, 2, 3, 4,5], [1, 2, 3, 4, 5,6])\n",
    "\n",
    "Map.addLayer(result, {'min': 1, 'max': 6, 'palette': legend_colors}, 'Labelled clusters')\n",
    "Map.add_legend(legend_keys=legend_keys, legend_colors=legend_colors, position='bottomright')\n"
   ]
  },
  {
   "cell_type": "code",
   "execution_count": 8,
   "metadata": {},
   "outputs": [
    {
     "name": "stdout",
     "output_type": "stream",
     "text": [
      "Change layer opacity:\n"
     ]
    },
    {
     "data": {
      "application/vnd.jupyter.widget-view+json": {
       "model_id": "7dde403bf2504716805fdbb7c5ff29ab",
       "version_major": 2,
       "version_minor": 0
      },
      "text/plain": [
       "Box(children=(FloatSlider(value=1.0, description='opacity', max=1.0),))"
      ]
     },
     "metadata": {},
     "output_type": "display_data"
    }
   ],
   "source": [
    "print('Change layer opacity:')\n",
    "cluster_layer = Map.layers[-1]\n",
    "cluster_layer.interact(opacity=(0, 1, 0.1))"
   ]
  },
  {
   "cell_type": "code",
   "execution_count": 11,
   "metadata": {},
   "outputs": [
    {
     "name": "stdout",
     "output_type": "stream",
     "text": [
      "Generating URL ...\n",
      "Downloading data from https://earthengine.googleapis.com/v1alpha/projects/earthengine-legacy/thumbnails/a08897a3713cdb1c71e07019cc6b1684-1a4f80796a9169c3f0121feaabf7329b:getPixels\n",
      "Please wait ...\n",
      "An error occurred while downloading.\n"
     ]
    }
   ],
   "source": [
    "import os\n",
    "out_dir = os.path.join(os.path.expanduser('~'), 'Downloads')\n",
    "out_file = os.path.join(out_dir, 'CASA-RABAT.tif')\n",
    "geemap.ee_export_image(result, filename=out_file, scale=90)"
   ]
  }
 ],
 "metadata": {
  "kernelspec": {
   "display_name": "Python 3",
   "language": "python",
   "name": "python3"
  },
  "language_info": {
   "codemirror_mode": {
    "name": "ipython",
    "version": 3
   },
   "file_extension": ".py",
   "mimetype": "text/x-python",
   "name": "python",
   "nbconvert_exporter": "python",
   "pygments_lexer": "ipython3",
   "version": "3.8.3"
  }
 },
 "nbformat": 4,
 "nbformat_minor": 4
}
